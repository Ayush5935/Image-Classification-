{
 "cells": [
  {
   "cell_type": "code",
   "execution_count": null,
   "metadata": {},
   "outputs": [
    {
     "ename": "",
     "evalue": "",
     "output_type": "error",
     "traceback": [
      "\u001b[1;31mRunning cells with 'c:\\Users\\Ramjee Sharma\\AppData\\Local\\Microsoft\\WindowsApps\\python3.10.exe' requires the ipykernel package.\n",
      "\u001b[1;31mRun the following command to install 'ipykernel' into the Python environment. \n",
      "\u001b[1;31mCommand: '\"c:/Users/Ramjee Sharma/AppData/Local/Microsoft/WindowsApps/python3.10.exe\" -m pip install ipykernel -U --user --force-reinstall'"
     ]
    }
   ],
   "source": [
    "import tensorflow as tf \n",
    "import numpy as np\n",
    "import matplotlib.pyplot as plt \n",
    "from tensorflow import keras \n",
    "from tensorflow.keras import layers"
   ]
  },
  {
   "cell_type": "code",
   "execution_count": null,
   "metadata": {},
   "outputs": [],
   "source": [
    "data_train_path = 'Fruits_Vegetables\\train'\n",
    "data_test_path = 'Fruits_Vegetables\\test'\n",
    "data_val_path = 'Fruits_Vegetables\\validation'"
   ]
  },
  {
   "cell_type": "code",
   "execution_count": null,
   "metadata": {},
   "outputs": [],
   "source": [
    "img_width = 180\n",
    "img_height = 180"
   ]
  },
  {
   "cell_type": "code",
   "execution_count": null,
   "metadata": {},
   "outputs": [],
   "source": [
    "data_train = tf.keras.utils.image_dataset_from_directory(data_train_path,\n",
    "                                                         shuffle = True,\n",
    "                                                         image_size=(img_width,img_height),\n",
    "                                                         batch_size=32,\n",
    "                                                         validation_split= False)"
   ]
  },
  {
   "cell_type": "code",
   "execution_count": null,
   "metadata": {},
   "outputs": [],
   "source": [
    "data_train.class_names"
   ]
  },
  {
   "cell_type": "code",
   "execution_count": null,
   "metadata": {},
   "outputs": [],
   "source": [
    "data_cat = data_train.class_names"
   ]
  },
  {
   "cell_type": "code",
   "execution_count": null,
   "metadata": {},
   "outputs": [],
   "source": [
    "data_val = tf.keras.utils.image_dataset_from_directory(data_val_path,\n",
    "                                                         shuffle = True,\n",
    "                                                         image_size=(img_width,img_height),\n",
    "                                                         batch_size=32,\n",
    "                                                         validation_split= False)"
   ]
  },
  {
   "cell_type": "code",
   "execution_count": null,
   "metadata": {},
   "outputs": [],
   "source": [
    "data_test = tf.keras.utils.image_dataset_from_directory(data_test_path,\n",
    "                                                         shuffle = True,\n",
    "                                                         image_size=(img_width,img_height),\n",
    "                                                         batch_size=32,\n",
    "                                                         validation_split= False)"
   ]
  },
  {
   "cell_type": "code",
   "execution_count": null,
   "metadata": {},
   "outputs": [],
   "source": [
    "plt.figure(figsize=(10,10))\n",
    "for image , labels in data_train.take(1):\n",
    "    for i in range(9):\n",
    "        plt.subplot(3,3,i+1)\n",
    "        plt.imshow(image[i].numpy.astype('uint8'))\n",
    "        plt.title(data_cat[labels[i]])\n",
    "        plt.axis('off')"
   ]
  },
  {
   "cell_type": "code",
   "execution_count": null,
   "metadata": {},
   "outputs": [],
   "source": [
    "from tensorflow.keras.models import Sequential"
   ]
  },
  {
   "cell_type": "code",
   "execution_count": null,
   "metadata": {},
   "outputs": [],
   "source": [
    "data_train"
   ]
  },
  {
   "cell_type": "code",
   "execution_count": null,
   "metadata": {},
   "outputs": [],
   "source": [
    "#creatin seq model\n",
    "model = Sequential(\n",
    "    layers.Rescaling(1./255),\n",
    "    layers.Conv2D( 16,3, padding='same',activation='relu'),\n",
    "    layers.MaxPooling2D(),\n",
    "    layers.Conv2D(32,3,padding='same',activation='relu'),\n",
    "    layers.MaxPool2D(),\n",
    "    layers.Conv2D(64,3,padding='same',activaton='relu'),\n",
    "    layers.MaxPooling2D(),\n",
    "    layers.Flattern(),\n",
    "    layers.Dropout(0,2),\n",
    "    layers.Dense(128),\n",
    "    layers.Dense(len(data_cat))\n",
    ")"
   ]
  },
  {
   "cell_type": "code",
   "execution_count": null,
   "metadata": {},
   "outputs": [],
   "source": [
    "model.compile(optimizer = 'adam' , loss=tf.keras.losses.SparseCategoricalCrossentropy(from_logits=True),metrics=['accuracy'])"
   ]
  },
  {
   "cell_type": "code",
   "execution_count": null,
   "metadata": {},
   "outputs": [],
   "source": [
    "epochs_size = 25\n",
    "history = model.fit(data_train, validation_data= data_val, epochs = epochs_size, batch_size=32, verbose =1)"
   ]
  },
  {
   "cell_type": "code",
   "execution_count": null,
   "metadata": {},
   "outputs": [],
   "source": [
    "epochs_range = range(epochs_size)\n",
    "plt.figure(figsize=(8,8))\n",
    "plt.subplot(1,2,2)\n",
    "plt.plot(epochs_range,history.history['accuracy'],label = 'Training Accuracy')\n",
    "plt.plot(epochs_range,history.history['val_accuracy'],label = 'Validation Accuracy')\n",
    "plt.title('Accuracy')\n",
    "\n",
    "plt.subplot(1,2,2)\n",
    "plt.plot(epochs_range,history.history['loss'],label = 'Training loss')\n",
    "plt.plot(epochs_range,history.history['val_loss'],label = 'Validation loss')\n",
    "plt.title('Loss')"
   ]
  },
  {
   "cell_type": "code",
   "execution_count": null,
   "metadata": {},
   "outputs": [],
   "source": [
    "#now give your own image in file side \n",
    "\n",
    "image ='Apple.jpeg'\n",
    "image = tf.keras.utils.load_img(image,target_size=(img_height,img_width))\n",
    "img_arr = tf.keras.utils.array_to_img(image)\n",
    "img_bat = tf.expand_dims(img_arr,0)"
   ]
  },
  {
   "cell_type": "code",
   "execution_count": null,
   "metadata": {},
   "outputs": [],
   "source": [
    "# Now predict \n",
    "\n",
    "predict = model.predict(img_bat)"
   ]
  },
  {
   "cell_type": "code",
   "execution_count": null,
   "metadata": {},
   "outputs": [],
   "source": [
    "#now find the score \n",
    "\n",
    "score = tf.nn.softmax(predict)"
   ]
  },
  {
   "cell_type": "code",
   "execution_count": null,
   "metadata": {},
   "outputs": [],
   "source": [
    "print('veg/fruit in image is {} with accuracy of {:0.2f}'.format(data_cat[np.argmax(score)],np.max(score)*100))"
   ]
  },
  {
   "cell_type": "markdown",
   "metadata": {},
   "source": []
  },
  {
   "cell_type": "markdown",
   "metadata": {},
   "source": [
    "### Now creating our web application \n",
    "\n"
   ]
  },
  {
   "cell_type": "code",
   "execution_count": null,
   "metadata": {},
   "outputs": [],
   "source": [
    "model.save('Image_classify.keras')"
   ]
  },
  {
   "cell_type": "markdown",
   "metadata": {},
   "source": [
    "Now Moving to VS code for creating web application"
   ]
  },
  {
   "cell_type": "code",
   "execution_count": null,
   "metadata": {},
   "outputs": [],
   "source": []
  }
 ],
 "metadata": {
  "kernelspec": {
   "display_name": "Python 3",
   "language": "python",
   "name": "python3"
  },
  "language_info": {
   "name": "python",
   "version": "3.10.11"
  }
 },
 "nbformat": 4,
 "nbformat_minor": 2
}
